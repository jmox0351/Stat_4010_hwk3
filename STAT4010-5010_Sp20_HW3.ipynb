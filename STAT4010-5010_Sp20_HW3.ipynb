{
 "cells": [
  {
   "cell_type": "markdown",
   "metadata": {},
   "source": [
    "# Homework #3\n",
    "\n",
    "**See Canvas for HW #3 assignment due date**. Complete all of the following problems. Ideally, the theoretical problems should be answered in a Markdown cell directly underneath the question. If you don't know LaTex/Markdown, you may submit separate handwritten solutions to the theoretical problems. Please do not turn in messy work. Computational problems should be completed in this notebook (using the R kernel is preferred). Computational questions may require code, plots, analysis, interpretation, etc. Working in small groups is allowed, but it is important that you make an effort to master the material and hand in your own work. \n"
   ]
  },
  {
   "cell_type": "markdown",
   "metadata": {},
   "source": [
    "## A. Theoretical Problems"
   ]
  },
  {
   "cell_type": "markdown",
   "metadata": {},
   "source": [
    "### Problem A.1\n",
    "\n",
    "Assume that the variables $X$ and $Y$ are related linearly in a population and that a sample of $n$ data pairs, $(x_i, y_i)$, $i = 1,...n$, have been measured. Prove the following results. Many are useful in proving important properties about the linear regression model.\n",
    "\n",
    "#### (a)   $\\displaystyle \\sum^n_{i=1}(x_i-\\bar{x}) = 0$.\n",
    "\n"
   ]
  },
  {
   "cell_type": "markdown",
   "metadata": {
    "collapsed": true
   },
   "source": [
    "$\\bar{x} = \\frac{1}{n} \\cdot \\sum_{i=1}^{n} x_{i}$ then the $\\sum_{i=1}^{n} (x_{i} - \\bar{x}) = x_{1} - \\frac{1}{n} \\cdot \\sum_{i=1}^{n} x_{i} +...+ x_{n} - \\frac{1}{n} \\cdot \\sum_{i=1}^{n} x_{i} = (x_{1} + ... + x_{n}) - n \\cdot \\frac{1}{n} \\sum_{i=1}^{n} x_{i} = \\sum_{i=1}^{n} x_{i} - \\sum_{i=1}^{n} x_{i} = 0$"
   ]
  },
  {
   "cell_type": "markdown",
   "metadata": {},
   "source": [
    "#### (b) $\\displaystyle \\sum^n_{i=1}(x_i - \\bar{x})^2 = \\sum^n_{i=1} x^2_i - n\\bar{x}^2$.\n",
    "\n"
   ]
  },
  {
   "cell_type": "markdown",
   "metadata": {},
   "source": [
    "$\\sum_{i=1}^{n} (x_{i} - \\bar{x})^{2} = \\sum_{i=1}^{n} (x_{i}^{2} - \\bar{x}^{2}) = \\sum_{i=1}^{n} x_{i}^{2} - \\sum_{i=1}^{n} \\bar{x}^{2} = \\sum_{i=1}^{n} x_{i}^{2} -n \\bar{x}^{2}$"
   ]
  },
  {
   "cell_type": "markdown",
   "metadata": {},
   "source": [
    "#### (c) $\\displaystyle \\sum^n_{i=1}(x_i - \\bar{x})(Y_i - \\bar{Y}) = \\sum^n_{i=1} Y_i(x_i -\\bar{x})$"
   ]
  },
  {
   "cell_type": "markdown",
   "metadata": {},
   "source": [
    "$\\sum^n_{i=1}(x_i - \\bar{x})(Y_i - \\bar{Y}) = \\sum_{i=1}^{n} (x_i \\cdot Y_i - \\bar{x} \\cdot Y_i) + (\\bar{Y} \\cdot \\bar{x} - \\bar{Y} \\cdot x_i) = \\sum_{i=1}^{n} Y_i (x_i - \\bar{x}) + \\sum_{i=1}^{n} \\bar{Y} (\\bar{x} - x_i) = \\sum_{i=1}^{n} Y_i (x_i - \\bar{x}) + \\bar{Y} \\cdot 0 = \\sum_{i=1}^{n} Y_i (x_i - \\bar{x})$"
   ]
  },
  {
   "cell_type": "markdown",
   "metadata": {},
   "source": [
    "#### (d) $\\displaystyle \\sum^n_{i=1}(\\bar{x}\\bar{y} - y_i\\bar{x}) = 0$. "
   ]
  },
  {
   "cell_type": "markdown",
   "metadata": {},
   "source": [
    "$\\sum_{i=1}^{n} (\\bar{x} \\bar{y} - y_i \\bar{x}) = \\sum_{i=1}^{n} \\bar{x}(\\bar{y} - y_i) = \\bar{x} \\cdot \\sum_{i=1}^{n} (\\bar{y} - y_i) = \\bar{x} \\cdot 0 = 0$"
   ]
  },
  {
   "cell_type": "markdown",
   "metadata": {},
   "source": [
    "### Problem A.2\n",
    "\n",
    "Consider the simple linear regression model $Y_i = \\beta_0 + \\beta_1x_i + \\varepsilon_i$ for $i = 1,...,n$, $\\,\\,\\,\\varepsilon_i \\sim N(0,\\sigma^2)$. In class, we showed that the least squares estimator in matrix-vector form is $\\mathbf{\\widehat{\\beta}} = (\\beta_0, \\beta_1)^T = (X^TX)^{-1}X^T\\mathbf{Y}$. In this problem, I want you to derive the least squares estimators individually, for simple linear regression. This should be easier, since it doesn't require linear algebra!\n",
    "\n",
    "Least squares requires that we minimize $$f(\\beta_0, \\beta_1) = \\sum^n_{i=1}\\bigg(Y_i - [\\beta_0 + \\beta_1x_i] \\bigg)^2$$ over $\\beta_0$ and $\\beta_1$. \n",
    "\n",
    "#### (a) Find the partial derivative of $f(\\beta_0, \\beta_1)$ with respect to $\\beta_0$, and the partial derivative of $f(\\beta_0, \\beta_1)$ with respect to $\\beta_1$. \n",
    "\n",
    "Recall that, in general, the partial derivative with respect to $x$ of a multivariate function $h(x,y)$ is calculated by taking the derivative  of $h$ with respect to $x$ while treating $y$ constant.\n"
   ]
  },
  {
   "cell_type": "markdown",
   "metadata": {},
   "source": []
  },
  {
   "cell_type": "markdown",
   "metadata": {},
   "source": [
    "#### (b) Use part (a) to find the minimizers,  $\\widehat{\\beta}_0$ and $\\widehat{\\beta}_1$, of $f$. That is, set each partial derivative to zero and solve for $\\beta_0$ and $\\beta_1$. In particular, show\n",
    "\n",
    "\\begin{align*}\n",
    "\\widehat{\\beta}_1 &= \\frac{\\sum^n_{i=1}(x_i - \\bar{x})(Y_i -\\bar{Y})}{\\sum^n_{i=1}(x_i - \\bar{x})^2}  \\, \\, \\text{ and }\\\\ \\\\\n",
    "\\widehat{\\beta}_0 &= \\bar{Y} - \\widehat{\\beta}_1\\bar{x}.\n",
    "\\end{align*}"
   ]
  },
  {
   "cell_type": "markdown",
   "metadata": {},
   "source": []
  },
  {
   "cell_type": "markdown",
   "metadata": {},
   "source": [
    "### Problem A.3\n",
    "\n",
    "Explain whether you agree or disagree with the following statements:\n",
    "\n",
    "#### (a) $Cov(Y, X)$ and $Cor(Y, X)$ can take values between 0 and $\\infty$.\n"
   ]
  },
  {
   "cell_type": "markdown",
   "metadata": {},
   "source": [
    "Covariance has the solution space $(- \\infty, \\infty)$ and Corelation has the solution space $[-1,1]$ so neither of these is true"
   ]
  },
  {
   "cell_type": "markdown",
   "metadata": {},
   "source": [
    "#### (b) If $Cov(Y,X) = 0$ or $Cor(Y,X) = 0$, one can conclude that there is no relationship between $Y$ and $X$.\n"
   ]
  },
  {
   "cell_type": "markdown",
   "metadata": {},
   "source": [
    "No, one can conclude there is no linear relationship, but there could be any other mathematical relationship"
   ]
  },
  {
   "cell_type": "markdown",
   "metadata": {},
   "source": [
    "#### (c) The least squares line fitted to the points in the scatter plot of $Y$ versus $\\widehat{Y}$ has zero intercept and a unit slope (assume simple linear regression)."
   ]
  },
  {
   "cell_type": "markdown",
   "metadata": {},
   "source": [
    "Yes, the average of Y, $\\hat{Y}$, will be 0 when Y is 0, and for each one unit increase in the average, $\\hat{Y}$ Y will also increase one unit on average"
   ]
  },
  {
   "cell_type": "markdown",
   "metadata": {},
   "source": [
    "### Problem A.4 <span style=\"color: #CFB87C;\">(STAT 5010 Students Only)</span> \n",
    "\n",
    "*Over the next few classes, we will be discussing the use of regression--and statistical modeling more generally--for prediction and explanation. The purpose of this problem is to encourage you to gain a deeper understanding of prediction, explanation, and the relationship between these two concepts.*\n",
    "\n",
    "**Read “To Explain or to Predict?” by Galit Shmueli and answer at least three of the following questions. Each answer should be typed in a markdown cell in this notebook, and roughly one paragraph (5-10 sentences) in length. The goal of this assignment is to provide the opportunity to think more rigorously about some of the statistical models that we will encounter in this course. What is their purpose? How can we get the most out of our statistical analysis?**\n",
    "\n",
    "1. What is explanatory modeling? Where is explanatory modeling most often used? What does explanatory modeling have to do with causality?\n",
    "\n",
    "2. What is predictive modeling? Where is predictive modeling most often used? What does predictive modeling have to do with causality?\n",
    "\n",
    "3. How are explanation and prediction different? Is it universally recognized that they are different?\n",
    "4. Describe how, according to Shmueli, the statistical modeling procedure might change based on whether the goal of the modeling is explanation or prediction.\n",
    "\n",
    "5. What are some suggestions that Shmueli gives to the statistical community based on his analysis of prediction and explanation? Do you agree with these suggestions?\n",
    "\n"
   ]
  },
  {
   "cell_type": "markdown",
   "metadata": {},
   "source": []
  },
  {
   "cell_type": "markdown",
   "metadata": {},
   "source": [
    "## B. Computational Problems"
   ]
  },
  {
   "cell_type": "markdown",
   "metadata": {},
   "source": [
    "### Problem B.1\n",
    "\n",
    "#### Run a simulation to confirm your result in problem A.3 part (c). That is, simulate some data with a known slope and intercept parameters, then fit an SLR model to the data, and plot the response vs the fitted values. What does R give as the slope and intercept? Why is this result important?"
   ]
  },
  {
   "cell_type": "code",
   "execution_count": 10,
   "metadata": {
    "scrolled": true
   },
   "outputs": [
    {
     "data": {
      "image/png": "[encoded data removed]",
      "text/plain": [
       "plot without title"
      ]
     },
     "metadata": {},
     "output_type": "display_data"
    }
   ],
   "source": [
    "gala = read.table(\"https://www.colorado.edu/amath/sites/default/files/attached-files/gala.txt\", sep = \"\\t\")\n",
    "model1 = lm(Species~Endemics, data = gala)\n",
    "ggplot(data = gala, aes(x = Species, y = fitted(model1)))+geom_point()"
   ]
  },
  {
   "cell_type": "markdown",
   "metadata": {},
   "source": [
    "### Problem B.2\n",
    "\n",
    "This [link](https://www.colorado.edu/amath/sites/default/files/attached-files/advertising.txt) contains advertising data. This dataset contains, in thousands of dollars, TV, Radio, and Newspaper budgets for 200 different markets along with the Sales, in thousands of units, for each market.\n",
    "\n",
    "#### (a) Load the dataset using the link above, and explore it graphically and numerically. Are there relationships between variables?"
   ]
  },
  {
   "cell_type": "code",
   "execution_count": 11,
   "metadata": {},
   "outputs": [
    {
     "data": {
      "text/html": [
       "<table>\n",
       "<thead><tr><th scope=col>TV</th><th scope=col>radio</th><th scope=col>newspaper</th><th scope=col>sales</th></tr></thead>\n",
       "<tbody>\n",
       "\t<tr><td>230.1</td><td>37.8 </td><td>69.2 </td><td>22.1 </td></tr>\n",
       "\t<tr><td> 44.5</td><td>39.3 </td><td>45.1 </td><td>10.4 </td></tr>\n",
       "\t<tr><td> 17.2</td><td>45.9 </td><td>69.3 </td><td> 9.3 </td></tr>\n",
       "\t<tr><td>151.5</td><td>41.3 </td><td>58.5 </td><td>18.5 </td></tr>\n",
       "\t<tr><td>180.8</td><td>10.8 </td><td>58.4 </td><td>12.9 </td></tr>\n",
       "\t<tr><td>  8.7</td><td>48.9 </td><td>75.0 </td><td> 7.2 </td></tr>\n",
       "</tbody>\n",
       "</table>\n"
      ],
      "text/latex": [
       "\\begin{tabular}{r|llll}\n",
       " TV & radio & newspaper & sales\\\\\n",
       "\\hline\n",
       "\t 230.1 & 37.8  & 69.2  & 22.1 \\\\\n",
       "\t  44.5 & 39.3  & 45.1  & 10.4 \\\\\n",
       "\t  17.2 & 45.9  & 69.3  &  9.3 \\\\\n",
       "\t 151.5 & 41.3  & 58.5  & 18.5 \\\\\n",
       "\t 180.8 & 10.8  & 58.4  & 12.9 \\\\\n",
       "\t   8.7 & 48.9  & 75.0  &  7.2 \\\\\n",
       "\\end{tabular}\n"
      ],
      "text/markdown": [
       "\n",
       "| TV | radio | newspaper | sales |\n",
       "|---|---|---|---|\n",
       "| 230.1 | 37.8  | 69.2  | 22.1  |\n",
       "|  44.5 | 39.3  | 45.1  | 10.4  |\n",
       "|  17.2 | 45.9  | 69.3  |  9.3  |\n",
       "| 151.5 | 41.3  | 58.5  | 18.5  |\n",
       "| 180.8 | 10.8  | 58.4  | 12.9  |\n",
       "|   8.7 | 48.9  | 75.0  |  7.2  |\n",
       "\n"
      ],
      "text/plain": [
       "  TV    radio newspaper sales\n",
       "1 230.1 37.8  69.2      22.1 \n",
       "2  44.5 39.3  45.1      10.4 \n",
       "3  17.2 45.9  69.3       9.3 \n",
       "4 151.5 41.3  58.5      18.5 \n",
       "5 180.8 10.8  58.4      12.9 \n",
       "6   8.7 48.9  75.0       7.2 "
      ]
     },
     "metadata": {},
     "output_type": "display_data"
    }
   ],
   "source": [
    "#library(tidyverse)  # data manipulation and visualization\n",
    "#library(modelr)     # provides easy pipeline modeling functions\n",
    "#library(broom)      # helps to tidy up model outputs\n",
    "#library(ggplot2)\n",
    "# Load data (remove row numbers included as X1 variable)\n",
    "adv = read.csv(\"https://www.colorado.edu/amath/sites/default/files/attached-files/advertising.txt\", sep = \"\\t\")\n",
    "adv = adv[,-1]\n",
    "head(adv)\n"
   ]
  },
  {
   "cell_type": "markdown",
   "metadata": {},
   "source": [
    "#### (b) Randomly split the dataset into two parts: a training set (80% of the data) and a testing set (20% of the data). "
   ]
  },
  {
   "cell_type": "code",
   "execution_count": 38,
   "metadata": {},
   "outputs": [],
   "source": [
    "set.seed(11)\n",
    "#install.packages(\"caTools\")\n",
    "library(caTools)\n",
    "sample = sample.split(adv, SplitRatio = 0.80)\n",
    "train = subset(adv, sample == TRUE)\n",
    "test = subset(adv, sample == FALSE)"
   ]
  },
  {
   "cell_type": "markdown",
   "metadata": {},
   "source": [
    "#### (c) Conduct simple linear regression, using the lm() function and your training set, with sales as the response, and radio as the predictor. Print a summary and interpret the parameter estimates. Write out the estimated regression equation."
   ]
  },
  {
   "cell_type": "code",
   "execution_count": 39,
   "metadata": {},
   "outputs": [
    {
     "data": {
      "text/plain": [
       "\n",
       "Call:\n",
       "lm(formula = sales ~ radio, data = train)\n",
       "\n",
       "Residuals:\n",
       "     Min       1Q   Median       3Q      Max \n",
       "-13.0327  -1.9400   0.7493   2.6117   7.3198 \n",
       "\n",
       "Coefficients:\n",
       "            Estimate Std. Error t value Pr(>|t|)    \n",
       "(Intercept)  9.02276    0.58169   15.51   <2e-16 ***\n",
       "radio        0.22924    0.02099   10.92   <2e-16 ***\n",
       "---\n",
       "Signif. codes:  0 '***' 0.001 '**' 0.01 '*' 0.05 '.' 0.1 ' ' 1\n",
       "\n",
       "Residual standard error: 3.873 on 148 degrees of freedom\n",
       "Multiple R-squared:  0.4464,\tAdjusted R-squared:  0.4426 \n",
       "F-statistic: 119.3 on 1 and 148 DF,  p-value: < 2.2e-16\n"
      ]
     },
     "metadata": {},
     "output_type": "display_data"
    }
   ],
   "source": [
    "model2 = lm(sales~radio, data = train)\n",
    "summary(model2)"
   ]
  },
  {
   "cell_type": "markdown",
   "metadata": {},
   "source": [
    "$\\widehat{Y}_i = 9.023 + 0.2292X_i$, This means that for each one unit increase in radio spending we expect to see a 0.2292 unit increase in sales on average, and that the average sales with 0 radio spending is 9.023"
   ]
  },
  {
   "cell_type": "markdown",
   "metadata": {},
   "source": [
    "#### (c) Plot the data and overlay the least squares regression line. Report and interpret the coefficient of determination.\n",
    "\n",
    "Challenge: For a nicer data visualization, use ggplot!"
   ]
  },
  {
   "cell_type": "markdown",
   "metadata": {},
   "source": [
    "The $R^2$ value is 0.4464. This means that 44.64% of the variance in sales is explained by radio advertising if the model assumptions hold"
   ]
  },
  {
   "cell_type": "code",
   "execution_count": 40,
   "metadata": {
    "scrolled": true
   },
   "outputs": [
    {
     "data": {
      "image/png": "[encoded data removed]",
      "text/plain": [
       "plot without title"
      ]
     },
     "metadata": {},
     "output_type": "display_data"
    }
   ],
   "source": [
    "ggplot(data = train, aes(x=radio, y=sales))+geom_point()+geom_smooth(method = 'lm', formula = y~x)"
   ]
  },
  {
   "cell_type": "markdown",
   "metadata": {},
   "source": [
    "#### (d) We learned that, often, the goal of regression is to make predictions on new data. Let's see how well the model does at predicting values that we left out of the training set.\n",
    "\n",
    "#### We can get a sense of how well the model does at predicting by computing the prediction mean squared error (MSE):\n",
    "\n",
    "$$ MSE = \\frac{1}{n}\\sum^n_{i=1}\\bigg(y_i - \\widehat{y}_i \\bigg)^2.$$\n",
    "\n",
    "####  Compute the MSE for the data in the training set, and for data in the testing set. Which one is lower? Explain why you think it's lower."
   ]
  },
  {
   "cell_type": "code",
   "execution_count": 44,
   "metadata": {},
   "outputs": [
    {
     "name": "stdout",
     "output_type": "stream",
     "text": [
      "The MSE for the training set is:  14.79859 And the MSE for the testing set is:  29.0459"
     ]
    }
   ],
   "source": [
    "mseTrain = mean(resid(model2)^2)\n",
    "mseTest = mean((test$sales - predict.lm(model2,test))^2)\n",
    "cat(\"The MSE for the training set is: \" ,mseTrain, \"And the MSE for the testing set is: \" ,mseTest)"
   ]
  },
  {
   "cell_type": "markdown",
   "metadata": {},
   "source": [
    "The MSE for the training set is lower and this is unsuprising. Prediction intervals are wider than confidence intervals because we need to take into acount the uncertainty associated with the model parameters so the data will be more spread out from the prediction line when we are using data from the underlying population (the test set) than with the training set."
   ]
  },
  {
   "cell_type": "markdown",
   "metadata": {},
   "source": [
    "### Problem B.3\n",
    "\n",
    "Now let's perform multiple linear regression using the dataset from Problem B.2\n",
    "\n",
    "\n",
    "#### (a) Perform MLR, using your training set, using sales as the response and all other variables as predictors."
   ]
  },
  {
   "cell_type": "code",
   "execution_count": 45,
   "metadata": {},
   "outputs": [
    {
     "data": {
      "text/plain": [
       "\n",
       "Call:\n",
       "lm(formula = sales ~ TV + radio + newspaper, data = train)\n",
       "\n",
       "Residuals:\n",
       "    Min      1Q  Median      3Q     Max \n",
       "-5.7318 -0.6014  0.1301  1.1051  2.6654 \n",
       "\n",
       "Coefficients:\n",
       "             Estimate Std. Error t value Pr(>|t|)    \n",
       "(Intercept)  3.278035   0.319380  10.264   <2e-16 ***\n",
       "TV           0.044171   0.001519  29.073   <2e-16 ***\n",
       "radio        0.197445   0.008758  22.544   <2e-16 ***\n",
       "newspaper   -0.005141   0.005784  -0.889    0.376    \n",
       "---\n",
       "Signif. codes:  0 '***' 0.001 '**' 0.01 '*' 0.05 '.' 0.1 ' ' 1\n",
       "\n",
       "Residual standard error: 1.496 on 146 degrees of freedom\n",
       "Multiple R-squared:  0.9185,\tAdjusted R-squared:  0.9168 \n",
       "F-statistic: 548.3 on 3 and 146 DF,  p-value: < 2.2e-16\n"
      ]
     },
     "metadata": {},
     "output_type": "display_data"
    }
   ],
   "source": [
    "model3 = lm(data = train, sales ~ TV + radio + newspaper)\n",
    "summary(model3)"
   ]
  },
  {
   "cell_type": "markdown",
   "metadata": {},
   "source": [
    "#### (b) Interpret the parameter estimates associated with TV. Interpret the coefficient of determination."
   ]
  },
  {
   "cell_type": "markdown",
   "metadata": {},
   "source": [
    "For each unit increase in TV spending we expect to see a 0.044171 unit increase in sales. The $R^2$ value is 0.9154 which means that 91.85% of the variance in sales is explained by the model if the assumptions the model was built on are valid"
   ]
  },
  {
   "cell_type": "markdown",
   "metadata": {},
   "source": [
    "#### (c) Compute the MSE for the data in the training set, and for data in the testing set. Which one is lower? Explain why you think it's lower."
   ]
  },
  {
   "cell_type": "code",
   "execution_count": 46,
   "metadata": {},
   "outputs": [
    {
     "name": "stdout",
     "output_type": "stream",
     "text": [
      "The MSE for the training set is:  2.179153 And the MSE for the testing set is:  4.878939"
     ]
    }
   ],
   "source": [
    "mseTrain3 = mean(resid(model3)^2)\n",
    "mseTest3 = mean((test$sales - predict.lm(model3, test))^2)\n",
    "cat(\"The MSE for the training set is: \" ,mseTrain3, \"And the MSE for the testing set is: \" ,mseTest3)"
   ]
  },
  {
   "cell_type": "markdown",
   "metadata": {
    "collapsed": true
   },
   "source": [
    "The MSE for the training set is lower and this is unsuprising. Prediction intervals are wider than confidence intervals because we need to take into acount the uncertainty associated with the model parameters so the data will be more spread out from the prediction line when we are using data from the underlying population (the test set) than with the training set."
   ]
  },
  {
   "cell_type": "code",
   "execution_count": null,
   "metadata": {},
   "outputs": [],
   "source": []
  }
 ],
 "metadata": {
  "kernelspec": {
   "display_name": "R",
   "language": "R",
   "name": "ir"
  },
  "language_info": {
   "codemirror_mode": "r",
   "file_extension": ".r",
   "mimetype": "text/x-r-source",
   "name": "R",
   "pygments_lexer": "r",
   "version": "3.6.1"
  }
 },
 "nbformat": 4,
 "nbformat_minor": 2
}
